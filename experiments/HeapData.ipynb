{
 "metadata": {
  "language_info": {
   "codemirror_mode": {
    "name": "ipython",
    "version": 3
   },
   "file_extension": ".py",
   "mimetype": "text/x-python",
   "name": "python",
   "nbconvert_exporter": "python",
   "pygments_lexer": "ipython3",
   "version": "3.8.6-final"
  },
  "orig_nbformat": 2,
  "kernelspec": {
   "name": "python3",
   "display_name": "Python 3",
   "language": "python"
  }
 },
 "nbformat": 4,
 "nbformat_minor": 2,
 "cells": [
  {
   "cell_type": "code",
   "execution_count": 32,
   "metadata": {},
   "outputs": [],
   "source": [
    "import torch_geometric\n",
    "import torch\n",
    "import networkx as nx\n",
    "from typing import Optional, List, Any\n",
    "from torch_geometric.utils.convert import from_networkx\n",
    "from heapq import heapify\n",
    "import random"
   ]
  },
  {
   "cell_type": "code",
   "execution_count": 13,
   "metadata": {},
   "outputs": [],
   "source": [
    "def get_parent(i: int) -> Optional[int]:\n",
    "    if i <= 0:\n",
    "        return None\n",
    "    return (i - 1) // 2\n",
    "\n",
    "def is_heap(l) -> bool:\n",
    "    for (i, e) in enumerate(l):\n",
    "        parent = get_parent(i)\n",
    "        if parent is not None and l[parent] > e:\n",
    "            return False\n",
    "    return True"
   ]
  },
  {
   "cell_type": "code",
   "execution_count": 45,
   "metadata": {},
   "outputs": [],
   "source": [
    "def generate_point(token_dim: int = 10, min_len: int = 1, max_len: int = 32, p_heapify: float = 0.4) -> List[int]:\n",
    "    result = []\n",
    "    for i in range(0, random.randint(min_len, max_len)):\n",
    "        result.append(list(torch.randn(token_dim)))\n",
    "    if random.random() < p_heapify: \n",
    "        heapify(result)\n",
    "    return torch.tensor(result)"
   ]
  },
  {
   "cell_type": "code",
   "execution_count": 46,
   "metadata": {},
   "outputs": [
    {
     "output_type": "execute_result",
     "data": {
      "text/plain": [
       "tensor([[-0.7159, -0.9623,  1.1429,  0.8942,  0.8918, -0.4359, -1.6203,  0.2658,\n",
       "         -1.5762, -0.8939],\n",
       "        [-0.3626, -1.1565,  0.2292,  0.6901, -0.5968, -1.4608,  1.1956, -0.7660,\n",
       "          0.8889,  0.3868],\n",
       "        [ 0.3187,  0.1426,  0.2522,  0.6110, -0.0065,  0.2905, -0.1317,  0.2203,\n",
       "          0.4433, -1.0786],\n",
       "        [ 0.1506, -1.1281, -1.8438, -0.0350, -0.4874, -0.0377, -0.1447,  1.8745,\n",
       "         -0.6931, -1.9233],\n",
       "        [-0.3580,  0.6143, -0.1700, -1.0301,  0.3262, -0.2034, -0.7491,  0.3223,\n",
       "          0.6436,  0.5754],\n",
       "        [ 1.0705,  1.0931,  0.2554,  2.7021, -1.3401, -0.5866, -0.4582, -0.9610,\n",
       "          1.4302,  1.4942],\n",
       "        [ 0.8337,  0.3894, -1.2481,  0.3478,  0.0849,  0.2671,  0.9656,  0.8241,\n",
       "         -1.5052, -0.3029],\n",
       "        [ 1.0952,  0.0428,  0.9180,  0.5080, -0.0261,  0.5001,  1.5315, -0.7833,\n",
       "         -0.6327, -0.4572]])"
      ]
     },
     "metadata": {},
     "execution_count": 46
    }
   ],
   "source": [
    "generate_point()"
   ]
  },
  {
   "cell_type": "code",
   "execution_count": 49,
   "metadata": {},
   "outputs": [],
   "source": [
    "def generate_data(n: int, token_dim: int = 10, min_len: int = 1, max_len: int = 32, p_heapify: float = 0.4):\n",
    "    for _ in range(0, n):\n",
    "        yield generate_point(token_dim, min_len, max_len, p_heapify)"
   ]
  },
  {
   "cell_type": "code",
   "execution_count": null,
   "metadata": {},
   "outputs": [],
   "source": []
  }
 ]
}