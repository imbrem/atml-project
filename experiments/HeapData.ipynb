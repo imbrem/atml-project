{
 "metadata": {
  "language_info": {
   "codemirror_mode": {
    "name": "ipython",
    "version": 3
   },
   "file_extension": ".py",
   "mimetype": "text/x-python",
   "name": "python",
   "nbconvert_exporter": "python",
   "pygments_lexer": "ipython3",
   "version": "3.8.6-final"
  },
  "orig_nbformat": 2,
  "kernelspec": {
   "name": "python3",
   "display_name": "Python 3",
   "language": "python"
  }
 },
 "nbformat": 4,
 "nbformat_minor": 2,
 "cells": [
  {
   "cell_type": "code",
   "execution_count": 2,
   "metadata": {},
   "outputs": [
    {
     "output_type": "stream",
     "name": "stdout",
     "text": [
      "/home/tekne/Oxford/ATML/Project\n"
     ]
    }
   ],
   "source": [
    "%cd ..\n",
    "%pwd\n",
    "from experiments.heap_data import *"
   ]
  },
  {
   "cell_type": "code",
   "execution_count": 3,
   "metadata": {},
   "outputs": [
    {
     "output_type": "stream",
     "name": "stderr",
     "text": [
      "Failed to detect the name of this notebook, you can set it manually with the WANDB_NOTEBOOK_NAME environment variable to enable code saving.\n",
      "\u001b[34m\u001b[1mwandb\u001b[0m: Currently logged in as: \u001b[33mtekne\u001b[0m (use `wandb login --relogin` to force relogin)\n",
      "/home/tekne/.local/lib/python3.8/site-packages/IPython/html.py:12: ShimWarning: The `IPython.html` package has been deprecated since IPython 4.0. You should import from `notebook` instead. `IPython.html.widgets` has moved to `ipywidgets`.\n",
      "  warn(\"The `IPython.html` package has been deprecated since IPython 4.0. \"\n"
     ]
    },
    {
     "output_type": "display_data",
     "data": {
      "text/plain": "<IPython.core.display.HTML object>",
      "text/html": "\n                Tracking run with wandb version 0.10.25<br/>\n                Syncing run <strong style=\"color:#cdcd00\">celestial-silence-9</strong> to <a href=\"https://wandb.ai\" target=\"_blank\">Weights & Biases</a> <a href=\"https://docs.wandb.com/integrations/jupyter.html\" target=\"_blank\">(Documentation)</a>.<br/>\n                Project page: <a href=\"https://wandb.ai/tekne/ggnn_heaps\" target=\"_blank\">https://wandb.ai/tekne/ggnn_heaps</a><br/>\n                Run page: <a href=\"https://wandb.ai/tekne/ggnn_heaps/runs/1ossy2n1\" target=\"_blank\">https://wandb.ai/tekne/ggnn_heaps/runs/1ossy2n1</a><br/>\n                Run data is saved locally in <code>/home/tekne/Oxford/ATML/Project/ggs-nn-model/wandb/run-20210407_233401-1ossy2n1</code><br/><br/>\n            "
     },
     "metadata": {}
    },
    {
     "output_type": "execute_result",
     "data": {
      "text/html": "<h1>Run(1ossy2n1)</h1><iframe src=\"https://wandb.ai/tekne/ggnn_heaps/runs/1ossy2n1\" style=\"border:none;width:100%;height:400px\"></iframe>",
      "text/plain": [
       "<wandb.sdk.wandb_run.Run at 0x7f6e1f6216d0>"
      ]
     },
     "metadata": {},
     "execution_count": 3
    }
   ],
   "source": [
    "wandb.init(project='ggnn_heaps')"
   ]
  },
  {
   "cell_type": "code",
   "execution_count": 4,
   "metadata": {},
   "outputs": [
    {
     "output_type": "display_data",
     "data": {
      "text/plain": "<IPython.core.display.HTML object>",
      "text/html": "<br/>Waiting for W&B process to finish, PID 18962<br/>Program ended successfully."
     },
     "metadata": {}
    },
    {
     "output_type": "display_data",
     "data": {
      "text/plain": "<IPython.core.display.HTML object>",
      "text/html": "Find user logs for this run at: <code>/home/tekne/Oxford/ATML/Project/ggs-nn-model/wandb/run-20210407_233401-1ossy2n1/logs/debug.log</code>"
     },
     "metadata": {}
    },
    {
     "output_type": "display_data",
     "data": {
      "text/plain": "<IPython.core.display.HTML object>",
      "text/html": "Find internal logs for this run at: <code>/home/tekne/Oxford/ATML/Project/ggs-nn-model/wandb/run-20210407_233401-1ossy2n1/logs/debug-internal.log</code>"
     },
     "metadata": {}
    },
    {
     "output_type": "display_data",
     "data": {
      "text/plain": "<IPython.core.display.HTML object>",
      "text/html": "Synced 5 W&B file(s), 0 media file(s), 0 artifact file(s) and 0 other file(s)"
     },
     "metadata": {}
    },
    {
     "output_type": "display_data",
     "data": {
      "text/plain": "<IPython.core.display.HTML object>",
      "text/html": "\n                    <br/>Synced <strong style=\"color:#cdcd00\">celestial-silence-9</strong>: <a href=\"https://wandb.ai/tekne/ggnn_heaps/runs/1ossy2n1\" target=\"_blank\">https://wandb.ai/tekne/ggnn_heaps/runs/1ossy2n1</a><br/>\n                "
     },
     "metadata": {}
    }
   ],
   "source": [
    "wandb.finish()"
   ]
  }
 ]
}