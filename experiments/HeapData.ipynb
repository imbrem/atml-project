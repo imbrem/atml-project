{
 "metadata": {
  "language_info": {
   "codemirror_mode": {
    "name": "ipython",
    "version": 3
   },
   "file_extension": ".py",
   "mimetype": "text/x-python",
   "name": "python",
   "nbconvert_exporter": "python",
   "pygments_lexer": "ipython3",
   "version": "3.8.6-final"
  },
  "orig_nbformat": 2,
  "kernelspec": {
   "name": "python3",
   "display_name": "Python 3",
   "language": "python"
  }
 },
 "nbformat": 4,
 "nbformat_minor": 2,
 "cells": [
  {
   "cell_type": "code",
   "execution_count": 32,
   "metadata": {},
   "outputs": [],
   "source": [
    "import torch_geometric\n",
    "import torch\n",
    "import networkx as nx\n",
    "from typing import Optional, List, Any\n",
    "from torch_geometric.utils.convert import from_networkx\n",
    "from heapq import heapify\n",
    "import random"
   ]
  },
  {
   "cell_type": "code",
   "execution_count": 13,
   "metadata": {},
   "outputs": [],
   "source": [
    "def get_parent(i: int) -> Optional[int]:\n",
    "    if i <= 0:\n",
    "        return None\n",
    "    return (i - 1) // 2\n",
    "\n",
    "def is_heap(l) -> bool:\n",
    "    for (i, e) in enumerate(l):\n",
    "        parent = get_parent(i)\n",
    "        if parent is not None and l[parent] > e:\n",
    "            return False\n",
    "    return True"
   ]
  },
  {
   "cell_type": "code",
   "execution_count": 34,
   "metadata": {},
   "outputs": [],
   "source": [
    "def generate_point(min_len: int = 1, max_len: int = 32, p_heapify: float = 0.4) -> List[int]:\n",
    "    result = []\n",
    "    for i in range(0, random.randint(min_len, max_len)):\n",
    "        result.append(random.getrandbits(16))\n",
    "    if random.random() < p_heapify: \n",
    "        heapify(result)\n",
    "    return result"
   ]
  },
  {
   "cell_type": "code",
   "execution_count": 35,
   "metadata": {},
   "outputs": [],
   "source": [
    "def generate_data(n: int, min_len: int = 1, max_len: int = 32, p_heapify: float = 0.4):\n",
    "    for _ in range(0, n):\n",
    "        yield generate_point(min_len, max_len, p_heapify)"
   ]
  },
  {
   "cell_type": "code",
   "execution_count": null,
   "metadata": {},
   "outputs": [],
   "source": []
  }
 ]
}