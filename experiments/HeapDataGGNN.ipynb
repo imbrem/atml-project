{
 "metadata": {
  "language_info": {
   "codemirror_mode": {
    "name": "ipython",
    "version": 3
   },
   "file_extension": ".py",
   "mimetype": "text/x-python",
   "name": "python",
   "nbconvert_exporter": "python",
   "pygments_lexer": "ipython3",
   "version": "3.8.6-final"
  },
  "orig_nbformat": 2,
  "kernelspec": {
   "name": "python3",
   "display_name": "Python 3",
   "language": "python"
  }
 },
 "nbformat": 4,
 "nbformat_minor": 2,
 "cells": [
  {
   "source": [
    "# Experiment 1\n",
    "\n",
    "Checking whether a heap-like graph is actually a heap using a GGNN"
   ],
   "cell_type": "markdown",
   "metadata": {}
  },
  {
   "cell_type": "code",
   "execution_count": 1,
   "metadata": {},
   "outputs": [
    {
     "output_type": "stream",
     "name": "stdout",
     "text": [
      "/home/tekne/Oxford/ATML/Project/ggs-nn-model\n"
     ]
    }
   ],
   "source": [
    "%cd ..\n",
    "%pwd\n",
    "from experiments.heaps import *\n",
    "import wandb"
   ]
  },
  {
   "cell_type": "code",
   "execution_count": 2,
   "metadata": {},
   "outputs": [
    {
     "output_type": "stream",
     "name": "stderr",
     "text": [
      "Failed to detect the name of this notebook, you can set it manually with the WANDB_NOTEBOOK_NAME environment variable to enable code saving.\n",
      "\u001b[34m\u001b[1mwandb\u001b[0m: Currently logged in as: \u001b[33mtekne\u001b[0m (use `wandb login --relogin` to force relogin)\n",
      "/home/tekne/.local/lib/python3.8/site-packages/IPython/html.py:12: ShimWarning: The `IPython.html` package has been deprecated since IPython 4.0. You should import from `notebook` instead. `IPython.html.widgets` has moved to `ipywidgets`.\n",
      "  warn(\"The `IPython.html` package has been deprecated since IPython 4.0. \"\n"
     ]
    },
    {
     "output_type": "display_data",
     "data": {
      "text/plain": "<IPython.core.display.HTML object>",
      "text/html": "\n                Tracking run with wandb version 0.10.25<br/>\n                Syncing run <strong style=\"color:#cdcd00\">blooming-field-1</strong> to <a href=\"https://wandb.ai\" target=\"_blank\">Weights & Biases</a> <a href=\"https://docs.wandb.com/integrations/jupyter.html\" target=\"_blank\">(Documentation)</a>.<br/>\n                Project page: <a href=\"https://wandb.ai/tekne/ggnn_heap_check\" target=\"_blank\">https://wandb.ai/tekne/ggnn_heap_check</a><br/>\n                Run page: <a href=\"https://wandb.ai/tekne/ggnn_heap_check/runs/306xhabj\" target=\"_blank\">https://wandb.ai/tekne/ggnn_heap_check/runs/306xhabj</a><br/>\n                Run data is saved locally in <code>/home/tekne/Oxford/ATML/Project/ggs-nn-model/wandb/run-20210408_192555-306xhabj</code><br/><br/>\n            "
     },
     "metadata": {}
    }
   ],
   "source": [
    "wandb.init(project=\"ggnn_heap_check\")\n",
    "config = wandb.config\n",
    "config.n_train = 1000\n",
    "config.n_test = 1000\n",
    "config.epochs = 100\n",
    "config.lr = 0.01\n",
    "config.optimizer = 'adam'\n",
    "config.min_len = 1\n",
    "config.max_len = 32\n",
    "config.batch_size = 500\n",
    "config.p_heap = 0.5\n",
    "config.graph_kind = 'tree'\n",
    "config.num_layers=3\n",
    "config.hidden_size=20"
   ]
  },
  {
   "cell_type": "code",
   "execution_count": 3,
   "metadata": {
    "tags": []
   },
   "outputs": [],
   "source": [
    "from torch_geometric.data import DataLoader\n",
    "\n",
    "data = make_heap_test_gnn_datapoints(\n",
    "    n = config.n_train + config.n_test,\n",
    "    p_heap = config.p_heap,\n",
    "    min_len = config.min_len,\n",
    "    max_len = config.max_len,\n",
    ")\n",
    "\n",
    "training_data = DataLoader(data[:config.n_train], batch_size=config.batch_size)\n",
    "testing_data = DataLoader(data[config.n_train:], batch_size=config.batch_size)"
   ]
  },
  {
   "cell_type": "code",
   "execution_count": 4,
   "metadata": {},
   "outputs": [
    {
     "output_type": "stream",
     "name": "stdout",
     "text": [
      "Training batches:\nBatch(batch=[8544], edge_index=[2, 8044], x=[8544, 1], y=[500])\nBatch(batch=[8170], edge_index=[2, 7670], x=[8170, 1], y=[500])\nTest batches:\nBatch(batch=[8023], edge_index=[2, 7523], x=[8023, 1], y=[500])\nBatch(batch=[8248], edge_index=[2, 7748], x=[8248, 1], y=[500])\n"
     ]
    }
   ],
   "source": [
    "print(\"Training batches:\")\n",
    "for data in training_data:\n",
    "    print(data)\n",
    "\n",
    "print(\"Test batches:\")\n",
    "for data in testing_data:\n",
    "    print(data)"
   ]
  },
  {
   "cell_type": "code",
   "execution_count": 5,
   "metadata": {},
   "outputs": [],
   "source": [
    "from ggnns.graph_level_ggnn import GraphLevelGGNN\n",
    "\n",
    "NUM_CLASSES = 2\n",
    "\n",
    "model = GraphLevelGGNN(\n",
    "    annotation_size=1,\n",
    "    num_layers=config.num_layers,\n",
    "    gate_nn=nn.Linear(2 * 1 + config.hidden_size, 1),\n",
    "    hidden_size=config.hidden_size,\n",
    "    final_layer=nn.Linear(2 * 1 + config.hidden_size, NUM_CLASSES),\n",
    ").cuda()\n",
    "opt = torch.optim.Adam(model.parameters(), lr=config.lr)"
   ]
  },
  {
   "cell_type": "code",
   "execution_count": 6,
   "metadata": {},
   "outputs": [
    {
     "output_type": "error",
     "ename": "SyntaxError",
     "evalue": "invalid syntax (<ipython-input-6-5d0dd261ef30>, line 13)",
     "traceback": [
      "\u001b[0;36m  File \u001b[0;32m\"<ipython-input-6-5d0dd261ef30>\"\u001b[0;36m, line \u001b[0;32m13\u001b[0m\n\u001b[0;31m    logger=wandb\u001b[0m\n\u001b[0m    ^\u001b[0m\n\u001b[0;31mSyntaxError\u001b[0m\u001b[0;31m:\u001b[0m invalid syntax\n"
     ]
    }
   ],
   "source": [
    "from experiments.utils import *\n",
    "\n",
    "loss = torch.nn.CrossEntropyLoss()\n",
    "\n",
    "results = train(\n",
    "    model=model,\n",
    "    opt=opt,\n",
    "    training_data=training_data,\n",
    "    testing_data=testing_data,\n",
    "    criterion=lambda out, y: loss(out, y),\n",
    "    checker=lambda out, y: ((torch.argmax(out, dim=-1) == y).sum(), y.shape[0]),\n",
    "    epochs=config.epochs,\n",
    "    logger=wandb\n",
    ")"
   ]
  },
  {
   "cell_type": "code",
   "execution_count": null,
   "metadata": {},
   "outputs": [],
   "source": [
    "import matplotlib.pyplot as plt"
   ]
  },
  {
   "cell_type": "code",
   "execution_count": null,
   "metadata": {},
   "outputs": [],
   "source": [
    "plt.plot(results[\"train_loss\"], label=\"Training loss\")\n",
    "plt.plot(results[\"test_loss\"], label=\"Testing loss\")\n",
    "plt.legend()\n",
    "plt.show()"
   ]
  },
  {
   "cell_type": "code",
   "execution_count": null,
   "metadata": {},
   "outputs": [],
   "source": [
    "plt.plot(results[\"train_accuracy\"], label=\"Training accuracy\")\n",
    "plt.plot(results[\"test_accuracy\"], label=\"Testing accuracy\")\n",
    "plt.legend()\n",
    "plt.show()"
   ]
  },
  {
   "cell_type": "code",
   "execution_count": null,
   "metadata": {},
   "outputs": [],
   "source": [
    "wandb.init(project=\"ggnn_heap_check\")\n",
    "config = wandb.config\n",
    "config.n_train = 1000\n",
    "config.n_test = 1000\n",
    "config.epochs = 100\n",
    "config.lr = 0.01\n",
    "config.optimizer = 'adam'\n",
    "config.min_len = 1\n",
    "config.max_len = 32\n",
    "config.batch_size = 500\n",
    "config.p_heap = 0.5\n",
    "config.graph_kind = 'linear'\n",
    "config.num_layers=3\n",
    "config.hidden_size=20"
   ]
  },
  {
   "cell_type": "code",
   "execution_count": null,
   "metadata": {},
   "outputs": [],
   "source": [
    "from torch_geometric.data import DataLoader\n",
    "\n",
    "data = make_heap_test_gnn_datapoints(\n",
    "    n = config.n_train + config.n_test,\n",
    "    p_heap = config.p_heap,\n",
    "    min_len = config.min_len,\n",
    "    max_len = config.max_len,\n",
    "    graph_generators = [(directed_path_graph, True)],\n",
    ")\n",
    "\n",
    "training_data = DataLoader(data[:config.n_train], batch_size=config.batch_size)\n",
    "testing_data = DataLoader(data[config.n_train:], batch_size=config.batch_size)"
   ]
  },
  {
   "cell_type": "code",
   "execution_count": null,
   "metadata": {},
   "outputs": [],
   "source": [
    "model = GraphLevelGGNN(\n",
    "    annotation_size=1,\n",
    "    num_layers=config.num_layers,\n",
    "    gate_nn=nn.Linear(2 * 1 + config.hidden_size, 1),\n",
    "    hidden_size=config.hidden_size,\n",
    "    final_layer=nn.Linear(2 * 1 + config.hidden_size, NUM_CLASSES),\n",
    ").cuda()\n",
    "opt = torch.optim.Adam(model.parameters(), lr=config.lr)"
   ]
  },
  {
   "cell_type": "code",
   "execution_count": null,
   "metadata": {},
   "outputs": [],
   "source": [
    "loss = torch.nn.CrossEntropyLoss()\n",
    "\n",
    "results = train(\n",
    "    model=model,\n",
    "    opt=opt,\n",
    "    training_data=training_data,\n",
    "    testing_data=testing_data,\n",
    "    criterion=lambda out, y: loss(out, y),\n",
    "    checker=lambda out, y: ((torch.argmax(out, dim=-1) == y).sum(), y.shape[0]),\n",
    "    epochs=config.epochs,\n",
    "    logger=wandb\n",
    ")"
   ]
  },
  {
   "cell_type": "code",
   "execution_count": null,
   "metadata": {},
   "outputs": [],
   "source": [
    "plt.plot(results[\"train_loss\"], label=\"Training loss\")\n",
    "plt.plot(results[\"test_loss\"], label=\"Testing loss\")\n",
    "plt.legend()\n",
    "plt.show()"
   ]
  },
  {
   "cell_type": "code",
   "execution_count": null,
   "metadata": {},
   "outputs": [],
   "source": [
    "plt.plot(results[\"train_accuracy\"], label=\"Training accuracy\")\n",
    "plt.plot(results[\"test_accuracy\"], label=\"Testing accuracy\")\n",
    "plt.legend()\n",
    "plt.show()"
   ]
  },
  {
   "cell_type": "code",
   "execution_count": null,
   "metadata": {},
   "outputs": [],
   "source": [
    "wandb.finish()"
   ]
  },
  {
   "cell_type": "code",
   "execution_count": null,
   "metadata": {},
   "outputs": [],
   "source": []
  }
 ]
}