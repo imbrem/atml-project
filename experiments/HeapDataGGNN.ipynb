{
 "metadata": {
  "language_info": {
   "codemirror_mode": {
    "name": "ipython",
    "version": 3
   },
   "file_extension": ".py",
   "mimetype": "text/x-python",
   "name": "python",
   "nbconvert_exporter": "python",
   "pygments_lexer": "ipython3",
   "version": "3.8.6-final"
  },
  "orig_nbformat": 2,
  "kernelspec": {
   "name": "python3",
   "display_name": "Python 3",
   "language": "python"
  }
 },
 "nbformat": 4,
 "nbformat_minor": 2,
 "cells": [
  {
   "source": [
    "# Experiment 1\n",
    "\n",
    "Checking whether a heap-like graph is actually a heap using a GGNN"
   ],
   "cell_type": "markdown",
   "metadata": {}
  },
  {
   "cell_type": "code",
   "execution_count": 1,
   "metadata": {},
   "outputs": [
    {
     "output_type": "stream",
     "name": "stdout",
     "text": [
      "/home/tekne/Oxford/ATML/Project/ggs-nn-model\n"
     ]
    }
   ],
   "source": [
    "%cd ..\n",
    "%pwd\n",
    "from experiments.heaps import *\n",
    "import wandb"
   ]
  },
  {
   "cell_type": "code",
   "execution_count": 2,
   "metadata": {},
   "outputs": [],
   "source": [
    "config = wandb.config\n",
    "config.n_train = 1000\n",
    "config.n_test = 1000\n",
    "config.epochs = 200\n",
    "config.lr = 0.01\n",
    "config.optimizer = 'adam'\n",
    "config.min_len = 1\n",
    "config.max_len = 32\n",
    "config.batch_size = 500\n",
    "config.p_heap = 0.5"
   ]
  },
  {
   "cell_type": "code",
   "execution_count": 3,
   "metadata": {
    "tags": []
   },
   "outputs": [],
   "source": [
    "from torch_geometric.data import DataLoader\n",
    "\n",
    "data = make_heap_test_gnn_datapoints(\n",
    "    n = config.n_train + config.n_test,\n",
    "    p_heap = config.p_heap,\n",
    "    min_len = config.min_len,\n",
    "    max_len = config.max_len,\n",
    ")\n",
    "\n",
    "training_data = DataLoader(data[:config.n_train], batch_size=config.batch_size)\n",
    "testing_data = DataLoader(data[config.n_train:], batch_size=config.batch_size)"
   ]
  },
  {
   "cell_type": "code",
   "execution_count": 4,
   "metadata": {},
   "outputs": [
    {
     "output_type": "stream",
     "name": "stdout",
     "text": [
      "Training batches:\nBatch(batch=[8069], edge_index=[2, 7569], x=[8069, 1], y=[500])\nBatch(batch=[8237], edge_index=[2, 7737], x=[8237, 1], y=[500])\nTest batches:\nBatch(batch=[7828], edge_index=[2, 7328], x=[7828, 1], y=[500])\nBatch(batch=[8333], edge_index=[2, 7833], x=[8333, 1], y=[500])\n"
     ]
    }
   ],
   "source": [
    "print(\"Training batches:\")\n",
    "for data in training_data:\n",
    "    print(data)\n",
    "\n",
    "print(\"Test batches:\")\n",
    "for data in testing_data:\n",
    "    print(data)"
   ]
  },
  {
   "cell_type": "code",
   "execution_count": 5,
   "metadata": {},
   "outputs": [],
   "source": [
    "from ggnns.graph_level_ggnn import GraphLevelGGNN\n",
    "\n",
    "NUM_CLASSES = 2\n",
    "\n",
    "config.num_layers=3\n",
    "config.hidden_size=20\n",
    "\n",
    "model = GraphLevelGGNN(\n",
    "    annotation_size=1,\n",
    "    num_layers=config.num_layers,\n",
    "    gate_nn=nn.Linear(2 * 1 + config.hidden_size, 1),\n",
    "    hidden_size=config.hidden_size,\n",
    "    final_layer=nn.Linear(2 * 1 + config.hidden_size, NUM_CLASSES),\n",
    ").cuda()"
   ]
  },
  {
   "cell_type": "code",
   "execution_count": 6,
   "metadata": {},
   "outputs": [],
   "source": [
    "opt = torch.optim.Adam(model.parameters(), lr=config.lr)"
   ]
  },
  {
   "cell_type": "code",
   "execution_count": 7,
   "metadata": {},
   "outputs": [
    {
     "output_type": "stream",
     "name": "stderr",
     "text": [
      "100%|██████████| 1/1 [00:00<00:00,  3.47it/s]\n"
     ]
    }
   ],
   "source": [
    "from experiments.utils import train\n",
    "\n",
    "loss = torch.nn.CrossEntropyLoss()\n",
    "\n",
    "results = train(\n",
    "    model=model,\n",
    "    opt=opt,\n",
    "    training_data=training_data,\n",
    "    testing_data=testing_data,\n",
    "    criterion=lambda out, y: loss(out, y),\n",
    "    checker=lambda out, y: ((torch.argmax(out, dim=-1) == y).sum(), y.shape[0]),\n",
    "    epochs=config.epochs\n",
    ")"
   ]
  },
  {
   "cell_type": "code",
   "execution_count": null,
   "metadata": {},
   "outputs": [],
   "source": []
  }
 ]
}