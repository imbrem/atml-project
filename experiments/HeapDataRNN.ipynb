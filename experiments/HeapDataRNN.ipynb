{
 "metadata": {
  "language_info": {
   "codemirror_mode": {
    "name": "ipython",
    "version": 3
   },
   "file_extension": ".py",
   "mimetype": "text/x-python",
   "name": "python",
   "nbconvert_exporter": "python",
   "pygments_lexer": "ipython3",
   "version": "3.8.6-final"
  },
  "orig_nbformat": 2,
  "kernelspec": {
   "name": "python3",
   "display_name": "Python 3",
   "language": "python"
  }
 },
 "nbformat": 4,
 "nbformat_minor": 2,
 "cells": [
  {
   "source": [
    "# Experiment 1 Baseline\n",
    "\n",
    "Checking whether an array is a heap using an RNN or LSTM"
   ],
   "cell_type": "markdown",
   "metadata": {}
  },
  {
   "cell_type": "code",
   "execution_count": 3,
   "metadata": {},
   "outputs": [
    {
     "output_type": "stream",
     "name": "stdout",
     "text": [
      "/home/tekne/Oxford/ATML/Project\n"
     ]
    }
   ],
   "source": [
    "%cd ..\n",
    "%pwd\n",
    "import wandb\n",
    "from experiments.heaps import *\n",
    "from experiments.utils import *\n",
    "from baselines.baseline_rnn import *\n",
    "from baselines.baseline_lstm import *\n",
    "from torch.utils.data import DataLoader\n",
    "import matplotlib.pyplot as plt"
   ]
  },
  {
   "cell_type": "code",
   "execution_count": 4,
   "metadata": {},
   "outputs": [],
   "source": [
    "def get_data(config):\n",
    "    data = make_heap_test_rnn_datapoints(\n",
    "        n = config[\"n_train\"] + config[\"n_test\"],\n",
    "        p_heap = config[\"p_heap\"],\n",
    "        min_len = config[\"min_len\"],\n",
    "        max_len = config[\"max_len\"],\n",
    "    )\n",
    "\n",
    "    training_data = DataLoader(data[:config[\"n_train\"]], batch_size=config[\"batch_size\"])\n",
    "    testing_data = DataLoader(data[config[\"n_train\"]:], batch_size=config[\"batch_size\"])\n",
    "\n",
    "    return training_data, testing_data\n",
    "\n",
    "def make_lstm(config):\n",
    "    return BaselineLSTM(\n",
    "        input_size=1,\n",
    "        hidden_size=config[\"hidden_size\"]\n",
    "    ).cuda()\n",
    "\n",
    "def make_rnn(config):\n",
    "    return BaselineRNN(\n",
    "        input_size=1,\n",
    "        hidden_size=config[\"hidden_size\"]\n",
    "    ).cuda()\n",
    "\n",
    "def make_model(config):\n",
    "    model = config.get(\"model\", \"rnn\")\n",
    "    if model == \"rnn\":\n",
    "        make_lstm(config)\n",
    "    elif model == \"lstm\":\n",
    "        make_rnn(config)\n",
    "    else:\n",
    "        raise ValueError(f\"config[\\\"model\\\"] == {model}\")"
   ]
  },
  {
   "cell_type": "code",
   "execution_count": 5,
   "metadata": {},
   "outputs": [],
   "source": [
    "def run_model(config, logger=wandb):\n",
    "    NUM_CLASSES = 2\n",
    "\n",
    "    model = GraphLevelGGNN(\n",
    "        annotation_size=1,\n",
    "        num_layers=config[\"num_layers\"],\n",
    "        gate_nn=nn.Linear(2 * 1 + config[\"hidden_size\"], 1),\n",
    "        hidden_size=config[\"hidden_size\"],\n",
    "        final_layer=nn.Linear(2 * 1 + config[\"hidden_size\"], NUM_CLASSES),\n",
    "    ).cuda()\n",
    "\n",
    "    if logger is not None:\n",
    "        logger.watch(model)\n",
    "        logger.run.summary[\"model_parameters\"] = model.count_parameters()\n",
    "\n",
    "    opt = torch.optim.Adam(model.parameters(), lr=config[\"lr\"])\n",
    "    loss = torch.nn.CrossEntropyLoss()\n",
    "\n",
    "    training_data, testing_data = get_data(config)\n",
    "\n",
    "    results = train(\n",
    "        model=model,\n",
    "        opt=opt,\n",
    "        training_data=training_data,\n",
    "        testing_data=testing_data,\n",
    "        criterion=lambda out, y: loss(out, y),\n",
    "        checker=lambda out, y: ((torch.argmax(out, dim=-1) == y).sum(), y.shape[0]),\n",
    "        epochs=config[\"epochs\"],\n",
    "        logger=logger\n",
    "    )\n",
    "\n",
    "    plt.plot(results[\"train_loss\"], label=\"Training loss\")\n",
    "    plt.plot(results[\"test_loss\"], label=\"Testing loss\")\n",
    "    plt.legend()\n",
    "    plt.show()\n",
    "\n",
    "    plt.plot(results[\"train_accuracy\"], label=\"Training accuracy\")\n",
    "    plt.plot(results[\"test_accuracy\"], label=\"Testing accuracy\")\n",
    "    plt.legend()\n",
    "    plt.show()\n"
   ]
  },
  {
   "cell_type": "code",
   "execution_count": null,
   "metadata": {},
   "outputs": [],
   "source": []
  }
 ]
}